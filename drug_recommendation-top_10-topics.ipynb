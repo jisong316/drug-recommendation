{
 "cells": [
  {
   "cell_type": "code",
   "execution_count": 1,
   "metadata": {
    "ExecuteTime": {
     "end_time": "2020-02-28T09:02:24.390509Z",
     "start_time": "2020-02-28T09:02:22.194564Z"
    }
   },
   "outputs": [],
   "source": [
    "import pandas as pd\n",
    "import numpy as np\n",
    "\n",
    "import matplotlib.pyplot as plt\n",
    "import seaborn as sns\n",
    "from mlxtend.plotting import plot_decision_regions\n",
    "\n",
    "plt.style.use('ggplot')\n",
    "%config InlineBackend.figure_format = 'svg'\n",
    "%matplotlib inline\n",
    "np.set_printoptions(suppress=True) # Suppress scientific notation where possible"
   ]
  },
  {
   "cell_type": "code",
   "execution_count": 2,
   "metadata": {
    "ExecuteTime": {
     "end_time": "2020-02-28T09:02:24.989097Z",
     "start_time": "2020-02-28T09:02:24.392357Z"
    }
   },
   "outputs": [],
   "source": [
    "from sklearn import naive_bayes\n",
    "from sklearn.linear_model import LogisticRegression\n",
    "from sklearn.feature_extraction.text import CountVectorizer\n",
    "from sklearn.naive_bayes import GaussianNB\n",
    "from sklearn.metrics import precision_score, recall_score, precision_recall_curve,f1_score, fbeta_score\n",
    "from sklearn.preprocessing import StandardScaler\n",
    "from sklearn.metrics import accuracy_score, confusion_matrix, roc_curve, roc_auc_score, make_scorer\n",
    "from sklearn.datasets import fetch_20newsgroups\n",
    "import gensim"
   ]
  },
  {
   "cell_type": "markdown",
   "metadata": {},
   "source": [
    "### Import cleaned datasets"
   ]
  },
  {
   "cell_type": "code",
   "execution_count": 11,
   "metadata": {
    "ExecuteTime": {
     "end_time": "2020-02-28T09:05:36.581780Z",
     "start_time": "2020-02-28T09:05:36.090020Z"
    }
   },
   "outputs": [],
   "source": [
    "df_train = pd.read_csv('/Users/jsong/Documents/durg-recommendation/df_train.csv')"
   ]
  },
  {
   "cell_type": "code",
   "execution_count": 12,
   "metadata": {
    "ExecuteTime": {
     "end_time": "2020-02-28T09:05:37.196254Z",
     "start_time": "2020-02-28T09:05:37.160040Z"
    }
   },
   "outputs": [
    {
     "name": "stdout",
     "output_type": "stream",
     "text": [
      "<class 'pandas.core.frame.DataFrame'>\n",
      "RangeIndex: 148387 entries, 0 to 148386\n",
      "Data columns (total 5 columns):\n",
      "drugName       148387 non-null object\n",
      "condition      148387 non-null object\n",
      "rating         148387 non-null float64\n",
      "usefulCount    148387 non-null int64\n",
      "review         148386 non-null object\n",
      "dtypes: float64(1), int64(1), object(3)\n",
      "memory usage: 5.7+ MB\n"
     ]
    }
   ],
   "source": [
    "df_train.info()"
   ]
  },
  {
   "cell_type": "code",
   "execution_count": 13,
   "metadata": {
    "ExecuteTime": {
     "end_time": "2020-02-28T09:05:52.011399Z",
     "start_time": "2020-02-28T09:05:51.948897Z"
    }
   },
   "outputs": [
    {
     "data": {
      "text/html": [
       "<div>\n",
       "<style scoped>\n",
       "    .dataframe tbody tr th:only-of-type {\n",
       "        vertical-align: middle;\n",
       "    }\n",
       "\n",
       "    .dataframe tbody tr th {\n",
       "        vertical-align: top;\n",
       "    }\n",
       "\n",
       "    .dataframe thead th {\n",
       "        text-align: right;\n",
       "    }\n",
       "</style>\n",
       "<table border=\"1\" class=\"dataframe\">\n",
       "  <thead>\n",
       "    <tr style=\"text-align: right;\">\n",
       "      <th></th>\n",
       "      <th>drugName</th>\n",
       "      <th>condition</th>\n",
       "      <th>rating</th>\n",
       "      <th>usefulCount</th>\n",
       "      <th>review</th>\n",
       "    </tr>\n",
       "  </thead>\n",
       "  <tbody>\n",
       "    <tr>\n",
       "      <th>0</th>\n",
       "      <td>Guanfacine</td>\n",
       "      <td>ADHD</td>\n",
       "      <td>8.0</td>\n",
       "      <td>192</td>\n",
       "      <td>son halfway fourth intuniv became concerned be...</td>\n",
       "    </tr>\n",
       "    <tr>\n",
       "      <th>1</th>\n",
       "      <td>Lybrel</td>\n",
       "      <td>Birth Control</td>\n",
       "      <td>5.0</td>\n",
       "      <td>17</td>\n",
       "      <td>used take another contraceptive pill cycle hap...</td>\n",
       "    </tr>\n",
       "    <tr>\n",
       "      <th>2</th>\n",
       "      <td>Ortho Evra</td>\n",
       "      <td>Birth Control</td>\n",
       "      <td>8.0</td>\n",
       "      <td>10</td>\n",
       "      <td>first time using form birth control glad went ...</td>\n",
       "    </tr>\n",
       "    <tr>\n",
       "      <th>3</th>\n",
       "      <td>Cialis</td>\n",
       "      <td>Benign Prostatic Hyperplasia</td>\n",
       "      <td>2.0</td>\n",
       "      <td>43</td>\n",
       "      <td>nd started work rock hard erection however exp...</td>\n",
       "    </tr>\n",
       "    <tr>\n",
       "      <th>4</th>\n",
       "      <td>Levonorgestrel</td>\n",
       "      <td>Emergency Contraception</td>\n",
       "      <td>1.0</td>\n",
       "      <td>5</td>\n",
       "      <td>pulled cummed bit took plan b hour later took ...</td>\n",
       "    </tr>\n",
       "    <tr>\n",
       "      <th>...</th>\n",
       "      <td>...</td>\n",
       "      <td>...</td>\n",
       "      <td>...</td>\n",
       "      <td>...</td>\n",
       "      <td>...</td>\n",
       "    </tr>\n",
       "    <tr>\n",
       "      <th>148382</th>\n",
       "      <td>Junel 1.5 / 30</td>\n",
       "      <td>Birth Control</td>\n",
       "      <td>6.0</td>\n",
       "      <td>0</td>\n",
       "      <td>would second junel birth control year changed ...</td>\n",
       "    </tr>\n",
       "    <tr>\n",
       "      <th>148383</th>\n",
       "      <td>Metoclopramide</td>\n",
       "      <td>Nausea/Vomiting</td>\n",
       "      <td>1.0</td>\n",
       "      <td>34</td>\n",
       "      <td>given surgey immediately became anxious could ...</td>\n",
       "    </tr>\n",
       "    <tr>\n",
       "      <th>148384</th>\n",
       "      <td>Orencia</td>\n",
       "      <td>Rheumatoid Arthritis</td>\n",
       "      <td>2.0</td>\n",
       "      <td>35</td>\n",
       "      <td>limited improvement month developed bad rash m...</td>\n",
       "    </tr>\n",
       "    <tr>\n",
       "      <th>148385</th>\n",
       "      <td>Thyroid desiccated</td>\n",
       "      <td>Underactive Thyroid</td>\n",
       "      <td>10.0</td>\n",
       "      <td>79</td>\n",
       "      <td>thyroid medication year spent first synthroid ...</td>\n",
       "    </tr>\n",
       "    <tr>\n",
       "      <th>148386</th>\n",
       "      <td>Lubiprostone</td>\n",
       "      <td>Constipation, Chronic</td>\n",
       "      <td>9.0</td>\n",
       "      <td>116</td>\n",
       "      <td>chronic constipation adult life tried linz wor...</td>\n",
       "    </tr>\n",
       "  </tbody>\n",
       "</table>\n",
       "<p>148386 rows × 5 columns</p>\n",
       "</div>"
      ],
      "text/plain": [
       "                  drugName                     condition  rating  usefulCount  \\\n",
       "0               Guanfacine                          ADHD     8.0          192   \n",
       "1                   Lybrel                 Birth Control     5.0           17   \n",
       "2               Ortho Evra                 Birth Control     8.0           10   \n",
       "3                   Cialis  Benign Prostatic Hyperplasia     2.0           43   \n",
       "4           Levonorgestrel       Emergency Contraception     1.0            5   \n",
       "...                    ...                           ...     ...          ...   \n",
       "148382      Junel 1.5 / 30                 Birth Control     6.0            0   \n",
       "148383      Metoclopramide               Nausea/Vomiting     1.0           34   \n",
       "148384             Orencia          Rheumatoid Arthritis     2.0           35   \n",
       "148385  Thyroid desiccated           Underactive Thyroid    10.0           79   \n",
       "148386        Lubiprostone         Constipation, Chronic     9.0          116   \n",
       "\n",
       "                                                   review  \n",
       "0       son halfway fourth intuniv became concerned be...  \n",
       "1       used take another contraceptive pill cycle hap...  \n",
       "2       first time using form birth control glad went ...  \n",
       "3       nd started work rock hard erection however exp...  \n",
       "4       pulled cummed bit took plan b hour later took ...  \n",
       "...                                                   ...  \n",
       "148382  would second junel birth control year changed ...  \n",
       "148383  given surgey immediately became anxious could ...  \n",
       "148384  limited improvement month developed bad rash m...  \n",
       "148385  thyroid medication year spent first synthroid ...  \n",
       "148386  chronic constipation adult life tried linz wor...  \n",
       "\n",
       "[148386 rows x 5 columns]"
      ]
     },
     "execution_count": 13,
     "metadata": {},
     "output_type": "execute_result"
    }
   ],
   "source": [
    "df_train.dropna()"
   ]
  },
  {
   "cell_type": "code",
   "execution_count": 9,
   "metadata": {
    "ExecuteTime": {
     "end_time": "2020-02-28T09:04:25.521530Z",
     "start_time": "2020-02-28T09:04:25.078320Z"
    }
   },
   "outputs": [],
   "source": [
    "df_topic = pd.read_csv('/Users/jsong/Documents/durg-recommendation/df_dominant_topic.csv')"
   ]
  },
  {
   "cell_type": "code",
   "execution_count": 10,
   "metadata": {
    "ExecuteTime": {
     "end_time": "2020-02-28T09:04:41.156883Z",
     "start_time": "2020-02-28T09:04:41.128246Z"
    }
   },
   "outputs": [
    {
     "name": "stdout",
     "output_type": "stream",
     "text": [
      "<class 'pandas.core.frame.DataFrame'>\n",
      "RangeIndex: 148386 entries, 0 to 148385\n",
      "Data columns (total 4 columns):\n",
      "Dominant_Topic       148386 non-null float64\n",
      "Perc_Contribution    148386 non-null float64\n",
      "Topic_Keywords       148386 non-null object\n",
      "review               148386 non-null object\n",
      "dtypes: float64(2), object(2)\n",
      "memory usage: 4.5+ MB\n"
     ]
    }
   ],
   "source": [
    "df_topic.info()"
   ]
  },
  {
   "cell_type": "code",
   "execution_count": 14,
   "metadata": {
    "ExecuteTime": {
     "end_time": "2020-02-28T09:08:38.137405Z",
     "start_time": "2020-02-28T09:08:38.079612Z"
    }
   },
   "outputs": [],
   "source": [
    "df = pd.concat([df_train, df_topic], axis=1, join='inner')"
   ]
  },
  {
   "cell_type": "code",
   "execution_count": 16,
   "metadata": {
    "ExecuteTime": {
     "end_time": "2020-02-28T09:09:25.225297Z",
     "start_time": "2020-02-28T09:09:25.212403Z"
    }
   },
   "outputs": [],
   "source": [
    "del df['review']"
   ]
  },
  {
   "cell_type": "code",
   "execution_count": 17,
   "metadata": {
    "ExecuteTime": {
     "end_time": "2020-02-28T09:09:28.312526Z",
     "start_time": "2020-02-28T09:09:28.294277Z"
    }
   },
   "outputs": [
    {
     "data": {
      "text/html": [
       "<div>\n",
       "<style scoped>\n",
       "    .dataframe tbody tr th:only-of-type {\n",
       "        vertical-align: middle;\n",
       "    }\n",
       "\n",
       "    .dataframe tbody tr th {\n",
       "        vertical-align: top;\n",
       "    }\n",
       "\n",
       "    .dataframe thead th {\n",
       "        text-align: right;\n",
       "    }\n",
       "</style>\n",
       "<table border=\"1\" class=\"dataframe\">\n",
       "  <thead>\n",
       "    <tr style=\"text-align: right;\">\n",
       "      <th></th>\n",
       "      <th>drugName</th>\n",
       "      <th>condition</th>\n",
       "      <th>rating</th>\n",
       "      <th>usefulCount</th>\n",
       "      <th>Dominant_Topic</th>\n",
       "      <th>Perc_Contribution</th>\n",
       "      <th>Topic_Keywords</th>\n",
       "    </tr>\n",
       "  </thead>\n",
       "  <tbody>\n",
       "    <tr>\n",
       "      <th>0</th>\n",
       "      <td>Guanfacine</td>\n",
       "      <td>ADHD</td>\n",
       "      <td>8.0</td>\n",
       "      <td>192</td>\n",
       "      <td>2.0</td>\n",
       "      <td>0.6443</td>\n",
       "      <td>side effect, no side, year ago, panic attack</td>\n",
       "    </tr>\n",
       "    <tr>\n",
       "      <th>1</th>\n",
       "      <td>Lybrel</td>\n",
       "      <td>Birth Control</td>\n",
       "      <td>5.0</td>\n",
       "      <td>17</td>\n",
       "      <td>3.0</td>\n",
       "      <td>0.6844</td>\n",
       "      <td>birth control, mood swing, weight gain, side e...</td>\n",
       "    </tr>\n",
       "    <tr>\n",
       "      <th>2</th>\n",
       "      <td>Ortho Evra</td>\n",
       "      <td>Birth Control</td>\n",
       "      <td>8.0</td>\n",
       "      <td>10</td>\n",
       "      <td>3.0</td>\n",
       "      <td>0.8630</td>\n",
       "      <td>birth control, mood swing, weight gain, side e...</td>\n",
       "    </tr>\n",
       "    <tr>\n",
       "      <th>3</th>\n",
       "      <td>Cialis</td>\n",
       "      <td>Benign Prostatic Hyperplasia</td>\n",
       "      <td>2.0</td>\n",
       "      <td>43</td>\n",
       "      <td>0.0</td>\n",
       "      <td>0.5926</td>\n",
       "      <td>blood pressure, started taking, lost lb, feel ...</td>\n",
       "    </tr>\n",
       "    <tr>\n",
       "      <th>4</th>\n",
       "      <td>Levonorgestrel</td>\n",
       "      <td>Emergency Contraception</td>\n",
       "      <td>1.0</td>\n",
       "      <td>5</td>\n",
       "      <td>1.0</td>\n",
       "      <td>0.9370</td>\n",
       "      <td>felt like, first time, yeast infection, took pill</td>\n",
       "    </tr>\n",
       "    <tr>\n",
       "      <th>...</th>\n",
       "      <td>...</td>\n",
       "      <td>...</td>\n",
       "      <td>...</td>\n",
       "      <td>...</td>\n",
       "      <td>...</td>\n",
       "      <td>...</td>\n",
       "      <td>...</td>\n",
       "    </tr>\n",
       "    <tr>\n",
       "      <th>148381</th>\n",
       "      <td>Tekturna</td>\n",
       "      <td>High Blood Pressure</td>\n",
       "      <td>7.0</td>\n",
       "      <td>18</td>\n",
       "      <td>3.0</td>\n",
       "      <td>0.9193</td>\n",
       "      <td>birth control, mood swing, weight gain, side e...</td>\n",
       "    </tr>\n",
       "    <tr>\n",
       "      <th>148382</th>\n",
       "      <td>Junel 1.5 / 30</td>\n",
       "      <td>Birth Control</td>\n",
       "      <td>6.0</td>\n",
       "      <td>0</td>\n",
       "      <td>0.0</td>\n",
       "      <td>0.6094</td>\n",
       "      <td>blood pressure, started taking, lost lb, feel ...</td>\n",
       "    </tr>\n",
       "    <tr>\n",
       "      <th>148383</th>\n",
       "      <td>Metoclopramide</td>\n",
       "      <td>Nausea/Vomiting</td>\n",
       "      <td>1.0</td>\n",
       "      <td>34</td>\n",
       "      <td>2.0</td>\n",
       "      <td>0.6066</td>\n",
       "      <td>side effect, no side, year ago, panic attack</td>\n",
       "    </tr>\n",
       "    <tr>\n",
       "      <th>148384</th>\n",
       "      <td>Orencia</td>\n",
       "      <td>Rheumatoid Arthritis</td>\n",
       "      <td>2.0</td>\n",
       "      <td>35</td>\n",
       "      <td>1.0</td>\n",
       "      <td>0.4715</td>\n",
       "      <td>felt like, first time, yeast infection, took pill</td>\n",
       "    </tr>\n",
       "    <tr>\n",
       "      <th>148385</th>\n",
       "      <td>Thyroid desiccated</td>\n",
       "      <td>Underactive Thyroid</td>\n",
       "      <td>10.0</td>\n",
       "      <td>79</td>\n",
       "      <td>0.0</td>\n",
       "      <td>0.6829</td>\n",
       "      <td>blood pressure, started taking, lost lb, feel ...</td>\n",
       "    </tr>\n",
       "  </tbody>\n",
       "</table>\n",
       "<p>148386 rows × 7 columns</p>\n",
       "</div>"
      ],
      "text/plain": [
       "                  drugName                     condition  rating  usefulCount  \\\n",
       "0               Guanfacine                          ADHD     8.0          192   \n",
       "1                   Lybrel                 Birth Control     5.0           17   \n",
       "2               Ortho Evra                 Birth Control     8.0           10   \n",
       "3                   Cialis  Benign Prostatic Hyperplasia     2.0           43   \n",
       "4           Levonorgestrel       Emergency Contraception     1.0            5   \n",
       "...                    ...                           ...     ...          ...   \n",
       "148381            Tekturna           High Blood Pressure     7.0           18   \n",
       "148382      Junel 1.5 / 30                 Birth Control     6.0            0   \n",
       "148383      Metoclopramide               Nausea/Vomiting     1.0           34   \n",
       "148384             Orencia          Rheumatoid Arthritis     2.0           35   \n",
       "148385  Thyroid desiccated           Underactive Thyroid    10.0           79   \n",
       "\n",
       "        Dominant_Topic  Perc_Contribution  \\\n",
       "0                  2.0             0.6443   \n",
       "1                  3.0             0.6844   \n",
       "2                  3.0             0.8630   \n",
       "3                  0.0             0.5926   \n",
       "4                  1.0             0.9370   \n",
       "...                ...                ...   \n",
       "148381             3.0             0.9193   \n",
       "148382             0.0             0.6094   \n",
       "148383             2.0             0.6066   \n",
       "148384             1.0             0.4715   \n",
       "148385             0.0             0.6829   \n",
       "\n",
       "                                           Topic_Keywords  \n",
       "0            side effect, no side, year ago, panic attack  \n",
       "1       birth control, mood swing, weight gain, side e...  \n",
       "2       birth control, mood swing, weight gain, side e...  \n",
       "3       blood pressure, started taking, lost lb, feel ...  \n",
       "4       felt like, first time, yeast infection, took pill  \n",
       "...                                                   ...  \n",
       "148381  birth control, mood swing, weight gain, side e...  \n",
       "148382  blood pressure, started taking, lost lb, feel ...  \n",
       "148383       side effect, no side, year ago, panic attack  \n",
       "148384  felt like, first time, yeast infection, took pill  \n",
       "148385  blood pressure, started taking, lost lb, feel ...  \n",
       "\n",
       "[148386 rows x 7 columns]"
      ]
     },
     "execution_count": 17,
     "metadata": {},
     "output_type": "execute_result"
    }
   ],
   "source": [
    "df"
   ]
  },
  {
   "cell_type": "code",
   "execution_count": 53,
   "metadata": {
    "ExecuteTime": {
     "end_time": "2020-02-28T09:43:03.878209Z",
     "start_time": "2020-02-28T09:43:03.743655Z"
    }
   },
   "outputs": [
    {
     "data": {
      "text/plain": [
       "condition\n",
       "Pain                                200\n",
       "Birth Control                       172\n",
       "High Blood Pressure                 140\n",
       "Acne                                117\n",
       "Depression                          105\n",
       "                                   ... \n",
       "Sexual Dysfunction, SSRI Induced     11\n",
       "Nausea/Vomiting, Postoperative       11\n",
       "Hyperhidrosis                        11\n",
       "Ovarian Cance                        11\n",
       "Keratosis                            11\n",
       "Name: drugName, Length: 185, dtype: int64"
      ]
     },
     "execution_count": 53,
     "metadata": {},
     "output_type": "execute_result"
    }
   ],
   "source": [
    "drug_per_condition = df.groupby(['condition'])['drugName'].nunique().sort_values(ascending=False)\n",
    "drug_per_condition"
   ]
  },
  {
   "cell_type": "code",
   "execution_count": 48,
   "metadata": {
    "ExecuteTime": {
     "end_time": "2020-02-28T09:37:15.130747Z",
     "start_time": "2020-02-28T09:37:15.125028Z"
    }
   },
   "outputs": [
    {
     "data": {
      "text/plain": [
       "condition\n",
       "Pain                    200\n",
       "Birth Control           172\n",
       "High Blood Pressure     140\n",
       "Acne                    117\n",
       "Depression              105\n",
       "Rheumatoid Arthritis     98\n",
       "Diabetes, Type 2         89\n",
       "Allergic Rhinitis        88\n",
       "Osteoarthritis           80\n",
       "Bipolar Disorde          80\n",
       "Name: drugName, dtype: int64"
      ]
     },
     "execution_count": 48,
     "metadata": {},
     "output_type": "execute_result"
    }
   ],
   "source": [
    "drug_per_condition[:10]"
   ]
  },
  {
   "cell_type": "code",
   "execution_count": 49,
   "metadata": {
    "ExecuteTime": {
     "end_time": "2020-02-28T09:38:59.517740Z",
     "start_time": "2020-02-28T09:38:59.512040Z"
    }
   },
   "outputs": [
    {
     "data": {
      "text/plain": [
       "Index(['Pain', 'Birth Control', 'High Blood Pressure', 'Acne', 'Depression',\n",
       "       'Rheumatoid Arthritis', 'Diabetes, Type 2', 'Allergic Rhinitis',\n",
       "       'Osteoarthritis', 'Bipolar Disorde'],\n",
       "      dtype='object', name='condition')"
      ]
     },
     "execution_count": 49,
     "metadata": {},
     "output_type": "execute_result"
    }
   ],
   "source": [
    "condition_1=drug_per_condition[:10].keys()\n",
    "condition_1"
   ]
  },
  {
   "cell_type": "code",
   "execution_count": 51,
   "metadata": {
    "ExecuteTime": {
     "end_time": "2020-02-28T09:40:40.879320Z",
     "start_time": "2020-02-28T09:40:40.857335Z"
    }
   },
   "outputs": [
    {
     "data": {
      "text/html": [
       "<div>\n",
       "<style scoped>\n",
       "    .dataframe tbody tr th:only-of-type {\n",
       "        vertical-align: middle;\n",
       "    }\n",
       "\n",
       "    .dataframe tbody tr th {\n",
       "        vertical-align: top;\n",
       "    }\n",
       "\n",
       "    .dataframe thead th {\n",
       "        text-align: right;\n",
       "    }\n",
       "</style>\n",
       "<table border=\"1\" class=\"dataframe\">\n",
       "  <thead>\n",
       "    <tr style=\"text-align: right;\">\n",
       "      <th></th>\n",
       "      <th>drugName</th>\n",
       "      <th>condition</th>\n",
       "      <th>rating</th>\n",
       "      <th>usefulCount</th>\n",
       "      <th>Dominant_Topic</th>\n",
       "      <th>Perc_Contribution</th>\n",
       "      <th>Topic_Keywords</th>\n",
       "    </tr>\n",
       "  </thead>\n",
       "  <tbody>\n",
       "    <tr>\n",
       "      <th>1</th>\n",
       "      <td>Lybrel</td>\n",
       "      <td>Birth Control</td>\n",
       "      <td>5.0</td>\n",
       "      <td>17</td>\n",
       "      <td>3.0</td>\n",
       "      <td>0.6844</td>\n",
       "      <td>birth control, mood swing, weight gain, side e...</td>\n",
       "    </tr>\n",
       "    <tr>\n",
       "      <th>2</th>\n",
       "      <td>Ortho Evra</td>\n",
       "      <td>Birth Control</td>\n",
       "      <td>8.0</td>\n",
       "      <td>10</td>\n",
       "      <td>3.0</td>\n",
       "      <td>0.8630</td>\n",
       "      <td>birth control, mood swing, weight gain, side e...</td>\n",
       "    </tr>\n",
       "    <tr>\n",
       "      <th>5</th>\n",
       "      <td>Aripiprazole</td>\n",
       "      <td>Bipolar Disorde</td>\n",
       "      <td>10.0</td>\n",
       "      <td>32</td>\n",
       "      <td>0.0</td>\n",
       "      <td>0.5667</td>\n",
       "      <td>blood pressure, started taking, lost lb, feel ...</td>\n",
       "    </tr>\n",
       "    <tr>\n",
       "      <th>7</th>\n",
       "      <td>Ethinyl estradiol / levonorgestrel</td>\n",
       "      <td>Birth Control</td>\n",
       "      <td>8.0</td>\n",
       "      <td>1</td>\n",
       "      <td>3.0</td>\n",
       "      <td>0.5531</td>\n",
       "      <td>birth control, mood swing, weight gain, side e...</td>\n",
       "    </tr>\n",
       "    <tr>\n",
       "      <th>9</th>\n",
       "      <td>L-methylfolate</td>\n",
       "      <td>Depression</td>\n",
       "      <td>10.0</td>\n",
       "      <td>54</td>\n",
       "      <td>2.0</td>\n",
       "      <td>0.8252</td>\n",
       "      <td>side effect, no side, year ago, panic attack</td>\n",
       "    </tr>\n",
       "  </tbody>\n",
       "</table>\n",
       "</div>"
      ],
      "text/plain": [
       "                             drugName        condition  rating  usefulCount  \\\n",
       "1                              Lybrel    Birth Control     5.0           17   \n",
       "2                          Ortho Evra    Birth Control     8.0           10   \n",
       "5                        Aripiprazole  Bipolar Disorde    10.0           32   \n",
       "7  Ethinyl estradiol / levonorgestrel    Birth Control     8.0            1   \n",
       "9                      L-methylfolate       Depression    10.0           54   \n",
       "\n",
       "   Dominant_Topic  Perc_Contribution  \\\n",
       "1             3.0             0.6844   \n",
       "2             3.0             0.8630   \n",
       "5             0.0             0.5667   \n",
       "7             3.0             0.5531   \n",
       "9             2.0             0.8252   \n",
       "\n",
       "                                      Topic_Keywords  \n",
       "1  birth control, mood swing, weight gain, side e...  \n",
       "2  birth control, mood swing, weight gain, side e...  \n",
       "5  blood pressure, started taking, lost lb, feel ...  \n",
       "7  birth control, mood swing, weight gain, side e...  \n",
       "9       side effect, no side, year ago, panic attack  "
      ]
     },
     "execution_count": 51,
     "metadata": {},
     "output_type": "execute_result"
    }
   ],
   "source": [
    "#selecting only top 10 conditions\n",
    "df_top_10=df[df['condition'].isin(condition_1)]\n",
    "df_top_10.head()"
   ]
  },
  {
   "cell_type": "code",
   "execution_count": 61,
   "metadata": {
    "ExecuteTime": {
     "end_time": "2020-02-28T09:56:18.754223Z",
     "start_time": "2020-02-28T09:56:18.738315Z"
    }
   },
   "outputs": [],
   "source": [
    "top_10=df_top_10.groupby(['condition']).Dominant_Topic.value_counts(normalize=True)"
   ]
  },
  {
   "cell_type": "code",
   "execution_count": 62,
   "metadata": {
    "ExecuteTime": {
     "end_time": "2020-02-28T09:56:20.952062Z",
     "start_time": "2020-02-28T09:56:20.944730Z"
    }
   },
   "outputs": [
    {
     "data": {
      "text/plain": [
       "condition             Dominant_Topic\n",
       "Acne                  3.0               0.696791\n",
       "                      2.0               0.122995\n",
       "                      1.0               0.099465\n",
       "                      0.0               0.080749\n",
       "Allergic Rhinitis     0.0               0.456158\n",
       "                      2.0               0.426601\n",
       "                      1.0               0.091626\n",
       "                      3.0               0.025616\n",
       "Bipolar Disorde       2.0               0.657858\n",
       "                      0.0               0.246492\n",
       "                      3.0               0.067353\n",
       "                      1.0               0.028297\n",
       "Birth Control         3.0               0.775175\n",
       "                      1.0               0.119787\n",
       "                      2.0               0.060419\n",
       "                      0.0               0.044619\n",
       "Depression            2.0               0.696259\n",
       "                      0.0               0.224997\n",
       "                      3.0               0.046897\n",
       "                      1.0               0.031846\n",
       "Diabetes, Type 2      0.0               0.610678\n",
       "                      2.0               0.261496\n",
       "                      1.0               0.075994\n",
       "                      3.0               0.051832\n",
       "High Blood Pressure   0.0               0.533787\n",
       "                      2.0               0.394390\n",
       "                      1.0               0.039524\n",
       "                      3.0               0.032299\n",
       "Osteoarthritis        2.0               0.610103\n",
       "                      1.0               0.198106\n",
       "                      0.0               0.153907\n",
       "                      3.0               0.037885\n",
       "Pain                  2.0               0.686013\n",
       "                      0.0               0.208521\n",
       "                      1.0               0.075723\n",
       "                      3.0               0.029743\n",
       "Rheumatoid Arthritis  2.0               0.747505\n",
       "                      0.0               0.169661\n",
       "                      1.0               0.059880\n",
       "                      3.0               0.022954\n",
       "Name: Dominant_Topic, dtype: float64"
      ]
     },
     "execution_count": 62,
     "metadata": {},
     "output_type": "execute_result"
    }
   ],
   "source": [
    "top_10"
   ]
  },
  {
   "cell_type": "markdown",
   "metadata": {},
   "source": [
    "### ==> visualization in Tableau"
   ]
  },
  {
   "cell_type": "code",
   "execution_count": null,
   "metadata": {},
   "outputs": [],
   "source": []
  },
  {
   "cell_type": "code",
   "execution_count": null,
   "metadata": {},
   "outputs": [],
   "source": []
  }
 ],
 "metadata": {
  "kernelspec": {
   "display_name": "Python [conda env:metis] *",
   "language": "python",
   "name": "conda-env-metis-py"
  },
  "language_info": {
   "codemirror_mode": {
    "name": "ipython",
    "version": 3
   },
   "file_extension": ".py",
   "mimetype": "text/x-python",
   "name": "python",
   "nbconvert_exporter": "python",
   "pygments_lexer": "ipython3",
   "version": "3.7.4"
  },
  "latex_envs": {
   "LaTeX_envs_menu_present": true,
   "autoclose": false,
   "autocomplete": true,
   "bibliofile": "biblio.bib",
   "cite_by": "apalike",
   "current_citInitial": 1,
   "eqLabelWithNumbers": true,
   "eqNumInitial": 1,
   "hotkeys": {
    "equation": "Ctrl-E",
    "itemize": "Ctrl-I"
   },
   "labels_anchors": false,
   "latex_user_defs": false,
   "report_style_numbering": false,
   "user_envs_cfg": false
  },
  "toc": {
   "base_numbering": 1,
   "nav_menu": {},
   "number_sections": true,
   "sideBar": true,
   "skip_h1_title": false,
   "title_cell": "Table of Contents",
   "title_sidebar": "Contents",
   "toc_cell": false,
   "toc_position": {},
   "toc_section_display": true,
   "toc_window_display": false
  }
 },
 "nbformat": 4,
 "nbformat_minor": 2
}
